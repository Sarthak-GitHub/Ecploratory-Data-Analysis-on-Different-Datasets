{
 "cells": [
  {
   "cell_type": "markdown",
   "metadata": {},
   "source": [
    "## Body Mass Index EDA\n",
    "***"
   ]
  },
  {
   "cell_type": "markdown",
   "metadata": {},
   "source": [
    "### Import Libraries"
   ]
  },
  {
   "cell_type": "code",
   "execution_count": 1,
   "metadata": {},
   "outputs": [],
   "source": [
    "import pandas as pd\n",
    "import numpy as np\n",
    "import matplotlib.pyplot as plt\n",
    "import seaborn as sns\n",
    "from pandas import Series,DataFrame"
   ]
  },
  {
   "cell_type": "code",
   "execution_count": 2,
   "metadata": {},
   "outputs": [],
   "source": [
    "### Load the Dataset"
   ]
  },
  {
   "cell_type": "code",
   "execution_count": 4,
   "metadata": {},
   "outputs": [],
   "source": [
    "df_hw = pd.read_csv(\"C:/Users/SARTHAK NIWATE/Documents/DSE Bangalore/EDA/Day 01/500_Person_Gender_Height_Weight_Index.csv\")"
   ]
  },
  {
   "cell_type": "code",
   "execution_count": 5,
   "metadata": {},
   "outputs": [
    {
     "data": {
      "text/html": [
       "<div>\n",
       "<style scoped>\n",
       "    .dataframe tbody tr th:only-of-type {\n",
       "        vertical-align: middle;\n",
       "    }\n",
       "\n",
       "    .dataframe tbody tr th {\n",
       "        vertical-align: top;\n",
       "    }\n",
       "\n",
       "    .dataframe thead th {\n",
       "        text-align: right;\n",
       "    }\n",
       "</style>\n",
       "<table border=\"1\" class=\"dataframe\">\n",
       "  <thead>\n",
       "    <tr style=\"text-align: right;\">\n",
       "      <th></th>\n",
       "      <th>Gender</th>\n",
       "      <th>Height</th>\n",
       "      <th>Weight</th>\n",
       "      <th>Index</th>\n",
       "    </tr>\n",
       "  </thead>\n",
       "  <tbody>\n",
       "    <tr>\n",
       "      <th>0</th>\n",
       "      <td>Male</td>\n",
       "      <td>174</td>\n",
       "      <td>96</td>\n",
       "      <td>4</td>\n",
       "    </tr>\n",
       "    <tr>\n",
       "      <th>1</th>\n",
       "      <td>Male</td>\n",
       "      <td>189</td>\n",
       "      <td>87</td>\n",
       "      <td>2</td>\n",
       "    </tr>\n",
       "    <tr>\n",
       "      <th>2</th>\n",
       "      <td>Female</td>\n",
       "      <td>185</td>\n",
       "      <td>110</td>\n",
       "      <td>4</td>\n",
       "    </tr>\n",
       "    <tr>\n",
       "      <th>3</th>\n",
       "      <td>Female</td>\n",
       "      <td>195</td>\n",
       "      <td>104</td>\n",
       "      <td>3</td>\n",
       "    </tr>\n",
       "    <tr>\n",
       "      <th>4</th>\n",
       "      <td>Male</td>\n",
       "      <td>149</td>\n",
       "      <td>61</td>\n",
       "      <td>3</td>\n",
       "    </tr>\n",
       "  </tbody>\n",
       "</table>\n",
       "</div>"
      ],
      "text/plain": [
       "   Gender  Height  Weight  Index\n",
       "0    Male     174      96      4\n",
       "1    Male     189      87      2\n",
       "2  Female     185     110      4\n",
       "3  Female     195     104      3\n",
       "4    Male     149      61      3"
      ]
     },
     "execution_count": 5,
     "metadata": {},
     "output_type": "execute_result"
    }
   ],
   "source": [
    "df_hw.head()"
   ]
  },
  {
   "cell_type": "code",
   "execution_count": 7,
   "metadata": {},
   "outputs": [
    {
     "data": {
      "text/plain": [
       "(500, 4)"
      ]
     },
     "execution_count": 7,
     "metadata": {},
     "output_type": "execute_result"
    }
   ],
   "source": [
    "df_hw.shape"
   ]
  },
  {
   "cell_type": "code",
   "execution_count": 8,
   "metadata": {},
   "outputs": [
    {
     "name": "stdout",
     "output_type": "stream",
     "text": [
      "<class 'pandas.core.frame.DataFrame'>\n",
      "RangeIndex: 500 entries, 0 to 499\n",
      "Data columns (total 4 columns):\n",
      " #   Column  Non-Null Count  Dtype \n",
      "---  ------  --------------  ----- \n",
      " 0   Gender  500 non-null    object\n",
      " 1   Height  500 non-null    int64 \n",
      " 2   Weight  500 non-null    int64 \n",
      " 3   Index   500 non-null    int64 \n",
      "dtypes: int64(3), object(1)\n",
      "memory usage: 15.8+ KB\n"
     ]
    }
   ],
   "source": [
    "df_hw.info()"
   ]
  },
  {
   "cell_type": "markdown",
   "metadata": {},
   "source": [
    "## EDA Descriptive Statistics\n",
    "***"
   ]
  },
  {
   "cell_type": "markdown",
   "metadata": {},
   "source": [
    "### Measures of Central Tendency\n",
    "##### From the measure of central tendencies, we will see depending on what we can analyze and on what can't analyze and why!\n",
    "\n",
    "**1. Mean**\n",
    "The calculation of the mean include all the data points. If any value being changed then the mean also changes. However, the mean doesn’t always locate the center of the data accurately. \n",
    "If the we have, skewed distribution, the outliers have a partial impact on the mean. The values in an extended tail changes the mean and the value goes away from the center. As the distribution becomes more skewed, the mean goes away from the center. Consequently, it’s best to use the mean as a measure of the central tendency when you have a symmetric distribution.\n",
    "\n",
    "\n",
    "**2. Median**\n",
    "Outliers and skewed data have a smaller effect on the median. This cannot give us the desired output. The median is not depend on all the values. When few values are more than that of most occured values, the effect on the median is smaller.  For any skewed distribution, the median is a better measure of central tendency than the mean.\n",
    "\n",
    "\n",
    "**3. Mode**\n",
    "Mode can only be used with categorical data. We cannot find central value because ordering the groups is not possible. In the discrete data, the mode represents the most common value. In the continuous data, if no values repeat, then there is no mode. If every value repeats for the same number of time then every value is mode. \n",
    "\n",
    "\n",
    "#####  symmetrical distribution for continuous data, the mean, median, and mode are equal. For ordinal data, the median or mode is the better choice. For categorical feature, the mode can be the option. \n",
    "\n",
    "\n",
    "**4. Quantiles**\n",
    "The interquartile range is the middle half of the data. As it is said, median is a robust measure of central tendency in same terms interquartile range is a robust measure of variability. The quantiles are not depend on the entire data set hence, it not affected affected easily with outliers. The IQR is the best option for skewed distribution. \n",
    "The interquartile range is part between the 75th and 25th percentile of data. This range will be the are range of good values of dataset.\n",
    "\n",
    "To define significant, representative and adequate values for a set of data. I'll use quantiles to analyze it."
   ]
  },
  {
   "cell_type": "code",
   "execution_count": 9,
   "metadata": {},
   "outputs": [
    {
     "data": {
      "text/plain": [
       "Height    169.944\n",
       "Weight    106.000\n",
       "Index       3.748\n",
       "dtype: float64"
      ]
     },
     "execution_count": 9,
     "metadata": {},
     "output_type": "execute_result"
    }
   ],
   "source": [
    "# mean of features\n",
    "df_hw.mean()"
   ]
  },
  {
   "cell_type": "code",
   "execution_count": 10,
   "metadata": {},
   "outputs": [
    {
     "data": {
      "text/html": [
       "<div>\n",
       "<style scoped>\n",
       "    .dataframe tbody tr th:only-of-type {\n",
       "        vertical-align: middle;\n",
       "    }\n",
       "\n",
       "    .dataframe tbody tr th {\n",
       "        vertical-align: top;\n",
       "    }\n",
       "\n",
       "    .dataframe thead th {\n",
       "        text-align: right;\n",
       "    }\n",
       "</style>\n",
       "<table border=\"1\" class=\"dataframe\">\n",
       "  <thead>\n",
       "    <tr style=\"text-align: right;\">\n",
       "      <th></th>\n",
       "      <th>Gender</th>\n",
       "      <th>Height</th>\n",
       "      <th>Weight</th>\n",
       "      <th>Index</th>\n",
       "    </tr>\n",
       "  </thead>\n",
       "  <tbody>\n",
       "    <tr>\n",
       "      <th>0</th>\n",
       "      <td>Female</td>\n",
       "      <td>188.0</td>\n",
       "      <td>50</td>\n",
       "      <td>5.0</td>\n",
       "    </tr>\n",
       "    <tr>\n",
       "      <th>1</th>\n",
       "      <td>NaN</td>\n",
       "      <td>NaN</td>\n",
       "      <td>80</td>\n",
       "      <td>NaN</td>\n",
       "    </tr>\n",
       "    <tr>\n",
       "      <th>2</th>\n",
       "      <td>NaN</td>\n",
       "      <td>NaN</td>\n",
       "      <td>104</td>\n",
       "      <td>NaN</td>\n",
       "    </tr>\n",
       "  </tbody>\n",
       "</table>\n",
       "</div>"
      ],
      "text/plain": [
       "   Gender  Height  Weight  Index\n",
       "0  Female   188.0      50    5.0\n",
       "1     NaN     NaN      80    NaN\n",
       "2     NaN     NaN     104    NaN"
      ]
     },
     "execution_count": 10,
     "metadata": {},
     "output_type": "execute_result"
    }
   ],
   "source": [
    "# mode of features\n",
    "df_hw.mode()"
   ]
  },
  {
   "cell_type": "code",
   "execution_count": 11,
   "metadata": {},
   "outputs": [
    {
     "data": {
      "text/plain": [
       "Height    170.5\n",
       "Weight    106.0\n",
       "Index       4.0\n",
       "dtype: float64"
      ]
     },
     "execution_count": 11,
     "metadata": {},
     "output_type": "execute_result"
    }
   ],
   "source": [
    "# Median of features\n",
    "df_hw.median()"
   ]
  },
  {
   "cell_type": "code",
   "execution_count": 12,
   "metadata": {},
   "outputs": [
    {
     "name": "stdout",
     "output_type": "stream",
     "text": [
      "Q1 is : Height    156.0\n",
      "Weight     80.0\n",
      "Index       3.0\n",
      "Name: 0.25, dtype: float64 \n",
      "\n",
      "Q2 is : Height    170.5\n",
      "Weight    106.0\n",
      "Index       4.0\n",
      "Name: 0.5, dtype: float64 \n",
      "\n",
      "Q3 is : Height    184.0\n",
      "Weight    136.0\n",
      "Index       5.0\n",
      "Name: 0.75, dtype: float64 \n",
      "\n",
      "IQR is : Height    28.0\n",
      "Weight    56.0\n",
      "Index      2.0\n",
      "dtype: float64 \n",
      "\n"
     ]
    }
   ],
   "source": [
    "# quantiles and IQR of data\n",
    "q1 = df_hw.quantile(0.25)\n",
    "q2 = df_hw.quantile(0.5)\n",
    "q3 = df_hw.quantile(0.75)\n",
    "IQR = q3-q1\n",
    "print('Q1 is :', round(q1,2),'\\n')\n",
    "print('Q2 is :', round(q2,2),'\\n')\n",
    "print('Q3 is :', round(q3,2),'\\n')\n",
    "print('IQR is :', round(IQR,2),'\\n')"
   ]
  },
  {
   "cell_type": "markdown",
   "metadata": {},
   "source": [
    "#### >> Visualize the distribution of 'Height' features with overlaying with mean and median of data"
   ]
  },
  {
   "cell_type": "code",
   "execution_count": 14,
   "metadata": {},
   "outputs": [
    {
     "data": {
      "image/png": "[encoded data removed]",
      "text/plain": [
       "<Figure size 432x288 with 1 Axes>"
      ]
     },
     "metadata": {
      "needs_background": "light"
     },
     "output_type": "display_data"
    }
   ],
   "source": [
    "sns.distplot(df_hw['Height'],hist=False)\n",
    "plt.axvline(df_hw['Height'].mean(),label='Mean',color='green')\n",
    "plt.axvline(df_hw['Height'].median(),label='Median',color='red')\n",
    "plt.title(\"Distribution of Height\")\n",
    "plt.legend()\n",
    "plt.show()"
   ]
  },
  {
   "cell_type": "markdown",
   "metadata": {},
   "source": [
    "## Measures of Dispersion\n",
    "***"
   ]
  },
  {
   "cell_type": "markdown",
   "metadata": {},
   "source": [
    "##### The measures of central tendency are not adequate to describe data. Two data sets can have the same mean but they can be entirely different. Thus to describe data, one needs to know the extent of variability. This is given by the measures of dispersion. Range, interquartile range, and standard deviation are the three commonly used measures of dispersion.\n",
    "\n",
    "**1. Range**\n",
    "The range is the difference between the largest and the smallest observation in the data. The prime advantage of this measure of dispersion is that it is easy to calculate. On the other hand, it has lot of disadvantages. It is very sensitive to outliers and does not use all the observations in a data set.It is more informative to provide the minimum and the maximum values rather than providing the range.\n",
    "\n",
    "**2. Interquartile Range**\n",
    "Interquartile range is defined as the difference between the 25th and 75th percentile (also called the first and third quartile). Hence the interquartile range describes the middle 50% of observations. If the interquartile range is large it means that the middle 50% of observations are spaced wide apart. The important advantage of interquartile range is that it can be used as a measure of variability if the extreme values are not being recorded exactly (as in case of open-ended class intervals in the frequency distribution). Other advantageous feature is that it is not affected by extreme values. The main disadvantage in using interquartile range as a measure of dispersion is that it is not amenable to mathematical manipulation.\n",
    "\n",
    "**3. Standard Deviation**\n",
    "Standard deviation (SD) is the most commonly used measure of dispersion. It is a measure of spread of data about the mean. SD is the square root of sum of squared deviation from the mean divided by the number of observations.\n",
    "The reason why SD is a very useful measure of dispersion is that, if the observations are from a normal distribution, then 68% of observations lie between mean ± 1 SD 95% of observations lie between mean ± 2 SD and 99.7% of observations lie between mean ± 3 SD\n",
    "The other advantage of SD is that along with mean it can be used to detect skewness. The disadvantage of SD is that it is an inappropriate measure of dispersion for skewed data.\n",
    "\n",
    "**4. Varince**\n",
    "Variance is the average squared difference of scores from the mean score of a distribution. Standard deviation is the square root of the variance"
   ]
  },
  {
   "cell_type": "code",
   "execution_count": 15,
   "metadata": {},
   "outputs": [
    {
     "name": "stdout",
     "output_type": "stream",
     "text": [
      "Min value of Height is : 140\n",
      "Max value of Height is : 199\n",
      "Range of data is : 59\n"
     ]
    }
   ],
   "source": [
    "# Range\n",
    "hw_min = df_hw['Height'].min()\n",
    "hw_max = df_hw['Height'].max()\n",
    "hw_range = hw_max - hw_min\n",
    "\n",
    "print('Min value of Height is :', hw_min)\n",
    "print('Max value of Height is :', hw_max)\n",
    "print('Range of data is :', hw_range)"
   ]
  },
  {
   "cell_type": "code",
   "execution_count": 16,
   "metadata": {},
   "outputs": [
    {
     "name": "stdout",
     "output_type": "stream",
     "text": [
      "Variance of Height : 268.15\n"
     ]
    }
   ],
   "source": [
    "# Variance\n",
    "hw_var = df_hw['Height'].var()\n",
    "print('Variance of Height :', round(hw_var,2))"
   ]
  },
  {
   "cell_type": "code",
   "execution_count": 17,
   "metadata": {},
   "outputs": [
    {
     "name": "stdout",
     "output_type": "stream",
     "text": [
      "Standard Deviation of Height : 16.38\n"
     ]
    }
   ],
   "source": [
    "# Standard Deviation\n",
    "hw_std = df_hw['Height'].std()\n",
    "print('Standard Deviation of Height :', round(hw_std,2))"
   ]
  },
  {
   "cell_type": "markdown",
   "metadata": {},
   "source": [
    "## Covariance and Correlation\n",
    "***"
   ]
  },
  {
   "cell_type": "markdown",
   "metadata": {},
   "source": [
    "**1. Covariance**\n",
    "Coavriance tells us how the one feature is moving with respect to other.\n",
    "\n",
    "**2. Correlation**\n",
    "Correlation tells us about the correlation between the features"
   ]
  },
  {
   "cell_type": "code",
   "execution_count": 18,
   "metadata": {},
   "outputs": [
    {
     "data": {
      "text/html": [
       "<div>\n",
       "<style scoped>\n",
       "    .dataframe tbody tr th:only-of-type {\n",
       "        vertical-align: middle;\n",
       "    }\n",
       "\n",
       "    .dataframe tbody tr th {\n",
       "        vertical-align: top;\n",
       "    }\n",
       "\n",
       "    .dataframe thead th {\n",
       "        text-align: right;\n",
       "    }\n",
       "</style>\n",
       "<table border=\"1\" class=\"dataframe\">\n",
       "  <thead>\n",
       "    <tr style=\"text-align: right;\">\n",
       "      <th></th>\n",
       "      <th>Height</th>\n",
       "      <th>Weight</th>\n",
       "    </tr>\n",
       "  </thead>\n",
       "  <tbody>\n",
       "    <tr>\n",
       "      <th>Height</th>\n",
       "      <td>268.149162</td>\n",
       "      <td>0.236473</td>\n",
       "    </tr>\n",
       "    <tr>\n",
       "      <th>Weight</th>\n",
       "      <td>0.236473</td>\n",
       "      <td>1048.633267</td>\n",
       "    </tr>\n",
       "  </tbody>\n",
       "</table>\n",
       "</div>"
      ],
      "text/plain": [
       "            Height       Weight\n",
       "Height  268.149162     0.236473\n",
       "Weight    0.236473  1048.633267"
      ]
     },
     "execution_count": 18,
     "metadata": {},
     "output_type": "execute_result"
    }
   ],
   "source": [
    "# covariance\n",
    "df_hw[['Height','Weight']].cov()"
   ]
  },
  {
   "cell_type": "code",
   "execution_count": 20,
   "metadata": {},
   "outputs": [],
   "source": [
    "# df.cov() function automatically ignores the null values\n",
    "# from the above covariance matrix, we can conclude that,\n",
    "# 1. there relationship between height and weight is, as the value 0 the co-variance values of both the features\n",
    "# is deferring a lot and 50% of values are increasing with directly propotional to each other "
   ]
  },
  {
   "cell_type": "code",
   "execution_count": 19,
   "metadata": {},
   "outputs": [
    {
     "data": {
      "text/html": [
       "<div>\n",
       "<style scoped>\n",
       "    .dataframe tbody tr th:only-of-type {\n",
       "        vertical-align: middle;\n",
       "    }\n",
       "\n",
       "    .dataframe tbody tr th {\n",
       "        vertical-align: top;\n",
       "    }\n",
       "\n",
       "    .dataframe thead th {\n",
       "        text-align: right;\n",
       "    }\n",
       "</style>\n",
       "<table border=\"1\" class=\"dataframe\">\n",
       "  <thead>\n",
       "    <tr style=\"text-align: right;\">\n",
       "      <th></th>\n",
       "      <th>Height</th>\n",
       "      <th>Weight</th>\n",
       "    </tr>\n",
       "  </thead>\n",
       "  <tbody>\n",
       "    <tr>\n",
       "      <th>Height</th>\n",
       "      <td>1.000000</td>\n",
       "      <td>0.000446</td>\n",
       "    </tr>\n",
       "    <tr>\n",
       "      <th>Weight</th>\n",
       "      <td>0.000446</td>\n",
       "      <td>1.000000</td>\n",
       "    </tr>\n",
       "  </tbody>\n",
       "</table>\n",
       "</div>"
      ],
      "text/plain": [
       "          Height    Weight\n",
       "Height  1.000000  0.000446\n",
       "Weight  0.000446  1.000000"
      ]
     },
     "execution_count": 19,
     "metadata": {},
     "output_type": "execute_result"
    }
   ],
   "source": [
    "# correlation\n",
    "df_hw[['Height','Weight']].corr()"
   ]
  },
  {
   "cell_type": "code",
   "execution_count": null,
   "metadata": {},
   "outputs": [],
   "source": [
    "# The obtained correlation matrix tells us that when correlation value between features is near to -1 means,\n",
    "# they are less correlated with each other and the correlation value near to +1 means,\n",
    "# They are strongly correlated with each other.\n",
    "# The correlation value between weight and height is near and around zero that shows that from all the values\n",
    "# 50% values are correlated with each other."
   ]
  }
 ],
 "metadata": {
  "kernelspec": {
   "display_name": "Python 3",
   "language": "python",
   "name": "python3"
  },
  "language_info": {
   "codemirror_mode": {
    "name": "ipython",
    "version": 3
   },
   "file_extension": ".py",
   "mimetype": "text/x-python",
   "name": "python",
   "nbconvert_exporter": "python",
   "pygments_lexer": "ipython3",
   "version": "3.8.3"
  }
 },
 "nbformat": 4,
 "nbformat_minor": 4
}
