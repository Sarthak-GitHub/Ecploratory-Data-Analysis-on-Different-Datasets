{
 "cells": [
  {
   "cell_type": "markdown",
   "metadata": {},
   "source": [
    "## Air BNB NYC Data - Linear Regression\n",
    "***\n",
    "- Predict price of properties on the basis of independent features."
   ]
  },
  {
   "cell_type": "markdown",
   "metadata": {},
   "source": [
    "**Importing essential libraries**"
   ]
  },
  {
   "cell_type": "code",
   "execution_count": 123,
   "metadata": {},
   "outputs": [],
   "source": [
    "import pandas as pd\n",
    "import numpy as np \n",
    "import matplotlib.pyplot as plt\n",
    "%matplotlib inline \n",
    "import seaborn as sns\n",
    "from sklearn.linear_model import LinearRegression\n",
    "from sklearn.model_selection import train_test_split\n",
    "from sklearn.metrics import r2_score, mean_squared_error"
   ]
  },
  {
   "cell_type": "markdown",
   "metadata": {},
   "source": [
    "**Loading the dataset**"
   ]
  },
  {
   "cell_type": "code",
   "execution_count": 124,
   "metadata": {},
   "outputs": [
    {
     "data": {
      "text/html": [
       "<div>\n",
       "<style scoped>\n",
       "    .dataframe tbody tr th:only-of-type {\n",
       "        vertical-align: middle;\n",
       "    }\n",
       "\n",
       "    .dataframe tbody tr th {\n",
       "        vertical-align: top;\n",
       "    }\n",
       "\n",
       "    .dataframe thead th {\n",
       "        text-align: right;\n",
       "    }\n",
       "</style>\n",
       "<table border=\"1\" class=\"dataframe\">\n",
       "  <thead>\n",
       "    <tr style=\"text-align: right;\">\n",
       "      <th></th>\n",
       "      <th>Boroughs</th>\n",
       "      <th>Latitude</th>\n",
       "      <th>Longitude</th>\n",
       "      <th>Prop_Type</th>\n",
       "      <th>Min_Nights</th>\n",
       "      <th>Host_Listing_Cnt</th>\n",
       "      <th>Days_Available</th>\n",
       "      <th>Review_Cnt</th>\n",
       "      <th>Reviews30d</th>\n",
       "      <th>Price</th>\n",
       "    </tr>\n",
       "  </thead>\n",
       "  <tbody>\n",
       "    <tr>\n",
       "      <th>0</th>\n",
       "      <td>Bronx</td>\n",
       "      <td>40.80011</td>\n",
       "      <td>-73.91330</td>\n",
       "      <td>PrivateRoom</td>\n",
       "      <td>21.0</td>\n",
       "      <td>2.0</td>\n",
       "      <td>291</td>\n",
       "      <td>19</td>\n",
       "      <td>0.27</td>\n",
       "      <td>60.0</td>\n",
       "    </tr>\n",
       "    <tr>\n",
       "      <th>1</th>\n",
       "      <td>Bronx</td>\n",
       "      <td>40.80024</td>\n",
       "      <td>-73.91422</td>\n",
       "      <td>PrivateRoom</td>\n",
       "      <td>3.0</td>\n",
       "      <td>1.0</td>\n",
       "      <td>0</td>\n",
       "      <td>59</td>\n",
       "      <td>2.93</td>\n",
       "      <td>49.0</td>\n",
       "    </tr>\n",
       "    <tr>\n",
       "      <th>2</th>\n",
       "      <td>Bronx</td>\n",
       "      <td>40.80074</td>\n",
       "      <td>-73.91574</td>\n",
       "      <td>PrivateRoom</td>\n",
       "      <td>3.0</td>\n",
       "      <td>1.0</td>\n",
       "      <td>354</td>\n",
       "      <td>3</td>\n",
       "      <td>0.87</td>\n",
       "      <td>50.0</td>\n",
       "    </tr>\n",
       "    <tr>\n",
       "      <th>3</th>\n",
       "      <td>Bronx</td>\n",
       "      <td>40.80091</td>\n",
       "      <td>-73.91449</td>\n",
       "      <td>PrivateRoom</td>\n",
       "      <td>21.0</td>\n",
       "      <td>2.0</td>\n",
       "      <td>117</td>\n",
       "      <td>18</td>\n",
       "      <td>0.36</td>\n",
       "      <td>71.0</td>\n",
       "    </tr>\n",
       "    <tr>\n",
       "      <th>4</th>\n",
       "      <td>Bronx</td>\n",
       "      <td>40.80143</td>\n",
       "      <td>-73.91353</td>\n",
       "      <td>EntireHome</td>\n",
       "      <td>2.0</td>\n",
       "      <td>3.0</td>\n",
       "      <td>0</td>\n",
       "      <td>12</td>\n",
       "      <td>3.50</td>\n",
       "      <td>115.0</td>\n",
       "    </tr>\n",
       "  </tbody>\n",
       "</table>\n",
       "</div>"
      ],
      "text/plain": [
       "  Boroughs  Latitude  Longitude    Prop_Type  Min_Nights  Host_Listing_Cnt  \\\n",
       "0    Bronx  40.80011  -73.91330  PrivateRoom        21.0               2.0   \n",
       "1    Bronx  40.80024  -73.91422  PrivateRoom         3.0               1.0   \n",
       "2    Bronx  40.80074  -73.91574  PrivateRoom         3.0               1.0   \n",
       "3    Bronx  40.80091  -73.91449  PrivateRoom        21.0               2.0   \n",
       "4    Bronx  40.80143  -73.91353   EntireHome         2.0               3.0   \n",
       "\n",
       "   Days_Available  Review_Cnt  Reviews30d  Price  \n",
       "0             291          19        0.27   60.0  \n",
       "1               0          59        2.93   49.0  \n",
       "2             354           3        0.87   50.0  \n",
       "3             117          18        0.36   71.0  \n",
       "4               0          12        3.50  115.0  "
      ]
     },
     "execution_count": 124,
     "metadata": {},
     "output_type": "execute_result"
    }
   ],
   "source": [
    "bnb = pd.read_csv(\"Airbnb_NYC.csv\")\n",
    "bnb.head()"
   ]
  },
  {
   "cell_type": "code",
   "execution_count": 125,
   "metadata": {},
   "outputs": [
    {
     "data": {
      "text/html": [
       "<div>\n",
       "<style scoped>\n",
       "    .dataframe tbody tr th:only-of-type {\n",
       "        vertical-align: middle;\n",
       "    }\n",
       "\n",
       "    .dataframe tbody tr th {\n",
       "        vertical-align: top;\n",
       "    }\n",
       "\n",
       "    .dataframe thead th {\n",
       "        text-align: right;\n",
       "    }\n",
       "</style>\n",
       "<table border=\"1\" class=\"dataframe\">\n",
       "  <thead>\n",
       "    <tr style=\"text-align: right;\">\n",
       "      <th></th>\n",
       "      <th>Boroughs</th>\n",
       "      <th>Latitude</th>\n",
       "      <th>Longitude</th>\n",
       "      <th>Prop_Type</th>\n",
       "      <th>Min_Nights</th>\n",
       "      <th>Host_Listing_Cnt</th>\n",
       "      <th>Days_Available</th>\n",
       "      <th>Review_Cnt</th>\n",
       "      <th>Reviews30d</th>\n",
       "      <th>Price</th>\n",
       "    </tr>\n",
       "  </thead>\n",
       "  <tbody>\n",
       "    <tr>\n",
       "      <th>38728</th>\n",
       "      <td>Staten Island</td>\n",
       "      <td>40.64641</td>\n",
       "      <td>-74.08502</td>\n",
       "      <td>EntireHome</td>\n",
       "      <td>2.0</td>\n",
       "      <td>1.0</td>\n",
       "      <td>106</td>\n",
       "      <td>58</td>\n",
       "      <td>4.73</td>\n",
       "      <td>130.0</td>\n",
       "    </tr>\n",
       "    <tr>\n",
       "      <th>38729</th>\n",
       "      <td>Staten Island</td>\n",
       "      <td>40.64682</td>\n",
       "      <td>-74.08734</td>\n",
       "      <td>PrivateRoom</td>\n",
       "      <td>20.0</td>\n",
       "      <td>1.0</td>\n",
       "      <td>89</td>\n",
       "      <td>58</td>\n",
       "      <td>1.05</td>\n",
       "      <td>43.0</td>\n",
       "    </tr>\n",
       "    <tr>\n",
       "      <th>38730</th>\n",
       "      <td>Staten Island</td>\n",
       "      <td>40.64730</td>\n",
       "      <td>-74.08408</td>\n",
       "      <td>PrivateRoom</td>\n",
       "      <td>30.0</td>\n",
       "      <td>4.0</td>\n",
       "      <td>0</td>\n",
       "      <td>85</td>\n",
       "      <td>1.35</td>\n",
       "      <td>105.0</td>\n",
       "    </tr>\n",
       "    <tr>\n",
       "      <th>38731</th>\n",
       "      <td>Staten Island</td>\n",
       "      <td>40.64762</td>\n",
       "      <td>-74.08682</td>\n",
       "      <td>EntireHome</td>\n",
       "      <td>3.0</td>\n",
       "      <td>1.0</td>\n",
       "      <td>232</td>\n",
       "      <td>5</td>\n",
       "      <td>1.88</td>\n",
       "      <td>135.0</td>\n",
       "    </tr>\n",
       "    <tr>\n",
       "      <th>38732</th>\n",
       "      <td>Staten Island</td>\n",
       "      <td>40.64779</td>\n",
       "      <td>-74.08460</td>\n",
       "      <td>EntireHome</td>\n",
       "      <td>1.0</td>\n",
       "      <td>1.0</td>\n",
       "      <td>250</td>\n",
       "      <td>108</td>\n",
       "      <td>2.32</td>\n",
       "      <td>140.0</td>\n",
       "    </tr>\n",
       "  </tbody>\n",
       "</table>\n",
       "</div>"
      ],
      "text/plain": [
       "            Boroughs  Latitude  Longitude    Prop_Type  Min_Nights  \\\n",
       "38728  Staten Island  40.64641  -74.08502   EntireHome         2.0   \n",
       "38729  Staten Island  40.64682  -74.08734  PrivateRoom        20.0   \n",
       "38730  Staten Island  40.64730  -74.08408  PrivateRoom        30.0   \n",
       "38731  Staten Island  40.64762  -74.08682   EntireHome         3.0   \n",
       "38732  Staten Island  40.64779  -74.08460   EntireHome         1.0   \n",
       "\n",
       "       Host_Listing_Cnt  Days_Available  Review_Cnt  Reviews30d  Price  \n",
       "38728               1.0             106          58        4.73  130.0  \n",
       "38729               1.0              89          58        1.05   43.0  \n",
       "38730               4.0               0          85        1.35  105.0  \n",
       "38731               1.0             232           5        1.88  135.0  \n",
       "38732               1.0             250         108        2.32  140.0  "
      ]
     },
     "execution_count": 125,
     "metadata": {},
     "output_type": "execute_result"
    }
   ],
   "source": [
    "bnb.tail()"
   ]
  },
  {
   "cell_type": "markdown",
   "metadata": {},
   "source": [
    "**About the dataset:**\n",
    "Neighbourhood_Group - The location of the property\n",
    "\n",
    "Latitude and Longitude - Geographical location of the property\n",
    "\n",
    "Prop_Type - The type of property as Private Room, Entire House\n",
    "\n",
    "Min_Nights - Minimum nights of stay\n",
    "\n",
    "Host_Listing_Cnt - How long they have listed it\n",
    "\n",
    "Days_Available - Availability of property in days\n",
    "\n",
    "Review_Cnt - Count of reviews in the property\n",
    "\n",
    "Reviews30d - Activeness of reviews/ how many reviews have been posted in 30 days\n",
    "\n",
    "Price - What is the market price they are askin for"
   ]
  },
  {
   "cell_type": "code",
   "execution_count": 126,
   "metadata": {},
   "outputs": [
    {
     "name": "stdout",
     "output_type": "stream",
     "text": [
      "<class 'pandas.core.frame.DataFrame'>\n",
      "RangeIndex: 38733 entries, 0 to 38732\n",
      "Data columns (total 10 columns):\n",
      " #   Column            Non-Null Count  Dtype  \n",
      "---  ------            --------------  -----  \n",
      " 0   Boroughs          38733 non-null  object \n",
      " 1   Latitude          38733 non-null  float64\n",
      " 2   Longitude         38733 non-null  float64\n",
      " 3   Prop_Type         38733 non-null  object \n",
      " 4   Min_Nights        38695 non-null  float64\n",
      " 5   Host_Listing_Cnt  38378 non-null  float64\n",
      " 6   Days_Available    38733 non-null  int64  \n",
      " 7   Review_Cnt        38733 non-null  int64  \n",
      " 8   Reviews30d        38733 non-null  float64\n",
      " 9   Price             38724 non-null  float64\n",
      "dtypes: float64(6), int64(2), object(2)\n",
      "memory usage: 3.0+ MB\n"
     ]
    }
   ],
   "source": [
    "bnb.info()"
   ]
  },
  {
   "cell_type": "code",
   "execution_count": 127,
   "metadata": {},
   "outputs": [
    {
     "data": {
      "text/html": [
       "<div>\n",
       "<style scoped>\n",
       "    .dataframe tbody tr th:only-of-type {\n",
       "        vertical-align: middle;\n",
       "    }\n",
       "\n",
       "    .dataframe tbody tr th {\n",
       "        vertical-align: top;\n",
       "    }\n",
       "\n",
       "    .dataframe thead th {\n",
       "        text-align: right;\n",
       "    }\n",
       "</style>\n",
       "<table border=\"1\" class=\"dataframe\">\n",
       "  <thead>\n",
       "    <tr style=\"text-align: right;\">\n",
       "      <th></th>\n",
       "      <th>Latitude</th>\n",
       "      <th>Longitude</th>\n",
       "      <th>Min_Nights</th>\n",
       "      <th>Host_Listing_Cnt</th>\n",
       "      <th>Days_Available</th>\n",
       "      <th>Review_Cnt</th>\n",
       "      <th>Reviews30d</th>\n",
       "      <th>Price</th>\n",
       "    </tr>\n",
       "  </thead>\n",
       "  <tbody>\n",
       "    <tr>\n",
       "      <th>count</th>\n",
       "      <td>38733.000000</td>\n",
       "      <td>38733.000000</td>\n",
       "      <td>38695.000000</td>\n",
       "      <td>38378.000000</td>\n",
       "      <td>38733.000000</td>\n",
       "      <td>38733.000000</td>\n",
       "      <td>38733.000000</td>\n",
       "      <td>38724.000000</td>\n",
       "    </tr>\n",
       "    <tr>\n",
       "      <th>mean</th>\n",
       "      <td>40.727848</td>\n",
       "      <td>-73.950735</td>\n",
       "      <td>5.523659</td>\n",
       "      <td>2.987545</td>\n",
       "      <td>114.234890</td>\n",
       "      <td>29.510650</td>\n",
       "      <td>1.365694</td>\n",
       "      <td>140.879248</td>\n",
       "    </tr>\n",
       "    <tr>\n",
       "      <th>std</th>\n",
       "      <td>0.055274</td>\n",
       "      <td>0.047167</td>\n",
       "      <td>10.817380</td>\n",
       "      <td>8.413190</td>\n",
       "      <td>130.182077</td>\n",
       "      <td>48.654548</td>\n",
       "      <td>1.692891</td>\n",
       "      <td>194.490892</td>\n",
       "    </tr>\n",
       "    <tr>\n",
       "      <th>min</th>\n",
       "      <td>40.506410</td>\n",
       "      <td>-74.244420</td>\n",
       "      <td>1.000000</td>\n",
       "      <td>1.000000</td>\n",
       "      <td>0.000000</td>\n",
       "      <td>1.000000</td>\n",
       "      <td>0.010000</td>\n",
       "      <td>10.000000</td>\n",
       "    </tr>\n",
       "    <tr>\n",
       "      <th>25%</th>\n",
       "      <td>40.688450</td>\n",
       "      <td>-73.982290</td>\n",
       "      <td>1.000000</td>\n",
       "      <td>1.000000</td>\n",
       "      <td>0.000000</td>\n",
       "      <td>3.000000</td>\n",
       "      <td>0.190000</td>\n",
       "      <td>68.000000</td>\n",
       "    </tr>\n",
       "    <tr>\n",
       "      <th>50%</th>\n",
       "      <td>40.721490</td>\n",
       "      <td>-73.954600</td>\n",
       "      <td>2.000000</td>\n",
       "      <td>1.000000</td>\n",
       "      <td>50.000000</td>\n",
       "      <td>10.000000</td>\n",
       "      <td>0.710000</td>\n",
       "      <td>100.000000</td>\n",
       "    </tr>\n",
       "    <tr>\n",
       "      <th>75%</th>\n",
       "      <td>40.762810</td>\n",
       "      <td>-73.934460</td>\n",
       "      <td>4.000000</td>\n",
       "      <td>2.000000</td>\n",
       "      <td>234.000000</td>\n",
       "      <td>33.000000</td>\n",
       "      <td>2.000000</td>\n",
       "      <td>169.000000</td>\n",
       "    </tr>\n",
       "    <tr>\n",
       "      <th>max</th>\n",
       "      <td>40.912400</td>\n",
       "      <td>-73.712990</td>\n",
       "      <td>300.000000</td>\n",
       "      <td>96.000000</td>\n",
       "      <td>365.000000</td>\n",
       "      <td>639.000000</td>\n",
       "      <td>66.610000</td>\n",
       "      <td>10000.000000</td>\n",
       "    </tr>\n",
       "  </tbody>\n",
       "</table>\n",
       "</div>"
      ],
      "text/plain": [
       "           Latitude     Longitude    Min_Nights  Host_Listing_Cnt  \\\n",
       "count  38733.000000  38733.000000  38695.000000      38378.000000   \n",
       "mean      40.727848    -73.950735      5.523659          2.987545   \n",
       "std        0.055274      0.047167     10.817380          8.413190   \n",
       "min       40.506410    -74.244420      1.000000          1.000000   \n",
       "25%       40.688450    -73.982290      1.000000          1.000000   \n",
       "50%       40.721490    -73.954600      2.000000          1.000000   \n",
       "75%       40.762810    -73.934460      4.000000          2.000000   \n",
       "max       40.912400    -73.712990    300.000000         96.000000   \n",
       "\n",
       "       Days_Available    Review_Cnt    Reviews30d         Price  \n",
       "count    38733.000000  38733.000000  38733.000000  38724.000000  \n",
       "mean       114.234890     29.510650      1.365694    140.879248  \n",
       "std        130.182077     48.654548      1.692891    194.490892  \n",
       "min          0.000000      1.000000      0.010000     10.000000  \n",
       "25%          0.000000      3.000000      0.190000     68.000000  \n",
       "50%         50.000000     10.000000      0.710000    100.000000  \n",
       "75%        234.000000     33.000000      2.000000    169.000000  \n",
       "max        365.000000    639.000000     66.610000  10000.000000  "
      ]
     },
     "execution_count": 127,
     "metadata": {},
     "output_type": "execute_result"
    }
   ],
   "source": [
    "bnb.describe()"
   ]
  },
  {
   "cell_type": "markdown",
   "metadata": {},
   "source": [
    "## Data Preprocessing - Part 1\n",
    "***"
   ]
  },
  {
   "cell_type": "code",
   "execution_count": 128,
   "metadata": {},
   "outputs": [
    {
     "data": {
      "text/plain": [
       "Boroughs              0\n",
       "Latitude              0\n",
       "Longitude             0\n",
       "Prop_Type             0\n",
       "Min_Nights           38\n",
       "Host_Listing_Cnt    355\n",
       "Days_Available        0\n",
       "Review_Cnt            0\n",
       "Reviews30d            0\n",
       "Price                 9\n",
       "dtype: int64"
      ]
     },
     "execution_count": 128,
     "metadata": {},
     "output_type": "execute_result"
    }
   ],
   "source": [
    "bnb.isnull().sum()"
   ]
  },
  {
   "cell_type": "code",
   "execution_count": 129,
   "metadata": {},
   "outputs": [],
   "source": [
    "nyc = bnb.dropna(thresh=9)\n",
    "\n",
    "nyc.Min_Nights.fillna(bnb.Min_Nights.median(),inplace=True)\n",
    "nyc.Host_Listing_Cnt.fillna(bnb.Host_Listing_Cnt.median(),inplace=True)\n",
    "nyc.Price.fillna(bnb.Price.median(),inplace=True)"
   ]
  },
  {
   "cell_type": "code",
   "execution_count": 130,
   "metadata": {},
   "outputs": [
    {
     "data": {
      "text/plain": [
       "Boroughs            0\n",
       "Latitude            0\n",
       "Longitude           0\n",
       "Prop_Type           0\n",
       "Min_Nights          0\n",
       "Host_Listing_Cnt    0\n",
       "Days_Available      0\n",
       "Review_Cnt          0\n",
       "Reviews30d          0\n",
       "Price               0\n",
       "dtype: int64"
      ]
     },
     "execution_count": 130,
     "metadata": {},
     "output_type": "execute_result"
    }
   ],
   "source": [
    "nyc.isnull().sum()"
   ]
  },
  {
   "cell_type": "markdown",
   "metadata": {},
   "source": [
    "## Exploratory Data Analysis\n",
    "***"
   ]
  },
  {
   "cell_type": "markdown",
   "metadata": {},
   "source": [
    "### Univariate Analysis"
   ]
  },
  {
   "cell_type": "markdown",
   "metadata": {},
   "source": [
    "**Count of diffrent types of Propety Type**"
   ]
  },
  {
   "cell_type": "code",
   "execution_count": 131,
   "metadata": {},
   "outputs": [
    {
     "data": {
      "image/png": "[encoded data removed]",
      "text/plain": [
       "<Figure size 1080x432 with 1 Axes>"
      ]
     },
     "metadata": {
      "needs_background": "light"
     },
     "output_type": "display_data"
    }
   ],
   "source": [
    "plt.figure(figsize=(15,6))\n",
    "nyc.Prop_Type.value_counts().plot(kind='bar')\n",
    "plt.show()"
   ]
  },
  {
   "cell_type": "code",
   "execution_count": 132,
   "metadata": {},
   "outputs": [
    {
     "data": {
      "image/png": "[encoded data removed]",
      "text/plain": [
       "<Figure size 576x432 with 1 Axes>"
      ]
     },
     "metadata": {},
     "output_type": "display_data"
    }
   ],
   "source": [
    "labels = ['EntireHome','PrivateRoom','SharedRoom']\n",
    "plt.figure(figsize=(8,6))\n",
    "plt.pie(nyc.Prop_Type.value_counts(),labels=labels,startangle = 90,autopct='%.3f',shadow=True)\n",
    "plt.legend(title = \"Four Fruits:\")\n",
    "plt.show()"
   ]
  },
  {
   "cell_type": "markdown",
   "metadata": {},
   "source": [
    "**Observations:**\n",
    "- There three types of properties Air BNB has, the maximum percentage of properties are EntireHome and few less than that are PrivateRoom.\n",
    "- The least is shared room."
   ]
  },
  {
   "cell_type": "markdown",
   "metadata": {},
   "source": [
    "**Count of different Boroughs**"
   ]
  },
  {
   "cell_type": "code",
   "execution_count": 133,
   "metadata": {},
   "outputs": [
    {
     "data": {
      "image/png": "[encoded data removed]",
      "text/plain": [
       "<Figure size 1080x432 with 1 Axes>"
      ]
     },
     "metadata": {
      "needs_background": "light"
     },
     "output_type": "display_data"
    }
   ],
   "source": [
    "plt.figure(figsize=(15,6))\n",
    "nyc.Boroughs.value_counts().plot(kind='bar',color='seagreen')\n",
    "plt.show()"
   ]
  },
  {
   "cell_type": "markdown",
   "metadata": {},
   "source": [
    "**Observations:**\n",
    "- As bar chart is showing clear that, Brooklyn and Manhatten has most of the Boroughs and less followed by Queens, Bronx and Saten Island."
   ]
  },
  {
   "cell_type": "markdown",
   "metadata": {},
   "source": [
    "**Reviews**"
   ]
  },
  {
   "cell_type": "code",
   "execution_count": 134,
   "metadata": {},
   "outputs": [
    {
     "data": {
      "image/png": "[encoded data removed]",
      "text/plain": [
       "<Figure size 432x288 with 1 Axes>"
      ]
     },
     "metadata": {
      "needs_background": "light"
     },
     "output_type": "display_data"
    }
   ],
   "source": [
    "sns.distplot(nyc.Review_Cnt)\n",
    "plt.show()"
   ]
  },
  {
   "cell_type": "code",
   "execution_count": 135,
   "metadata": {},
   "outputs": [
    {
     "data": {
      "image/png": "[encoded data removed]",
      "text/plain": [
       "<Figure size 432x288 with 1 Axes>"
      ]
     },
     "metadata": {
      "needs_background": "light"
     },
     "output_type": "display_data"
    }
   ],
   "source": [
    "sns.distplot(nyc.Reviews30d)\n",
    "plt.show()"
   ]
  },
  {
   "cell_type": "markdown",
   "metadata": {},
   "source": [
    "**Observations:**\n",
    "- Most of the Air BNB's has got 0-200 reviews  and very few has got more than 200.\n",
    "- In both the features Reviews Count and Reviews per 30 days has same obervations as above."
   ]
  },
  {
   "cell_type": "markdown",
   "metadata": {},
   "source": [
    "**Price of Air BNBs**"
   ]
  },
  {
   "cell_type": "code",
   "execution_count": 136,
   "metadata": {},
   "outputs": [
    {
     "data": {
      "image/png": "[encoded data removed]",
      "text/plain": [
       "<Figure size 432x288 with 1 Axes>"
      ]
     },
     "metadata": {
      "needs_background": "light"
     },
     "output_type": "display_data"
    }
   ],
   "source": [
    "sns.distplot(nyc.Price)\n",
    "plt.show()"
   ]
  },
  {
   "cell_type": "markdown",
   "metadata": {},
   "source": [
    "**Observations:**\n",
    "- Most of the Air BNBs are having price range around 0-1500($US Dollars). And very less are from price 1500-9000($US Dollars).\n",
    "- Some Air BNBs are having price 9000-10000 and the count of them is also slightly greater than middle range."
   ]
  },
  {
   "cell_type": "markdown",
   "metadata": {},
   "source": [
    "### Bivariate Analysis"
   ]
  },
  {
   "cell_type": "markdown",
   "metadata": {},
   "source": [
    "**Boroughs**\n",
    "1. Average Price vs Boroughs"
   ]
  },
  {
   "cell_type": "code",
   "execution_count": 137,
   "metadata": {},
   "outputs": [
    {
     "data": {
      "image/png": "[encoded data removed]",
      "text/plain": [
       "<Figure size 1080x432 with 1 Axes>"
      ]
     },
     "metadata": {
      "needs_background": "light"
     },
     "output_type": "display_data"
    }
   ],
   "source": [
    "plt.figure(figsize=(15,6))\n",
    "nyc.groupby('Boroughs').mean()['Price'].plot(kind='bar')\n",
    "plt.title(\"Average Price per Boroughs\", size=20)\n",
    "plt.xlabel(\"Boroughs\", size=20)\n",
    "plt.ylabel('Price', size=20)\n",
    "plt.show()"
   ]
  },
  {
   "cell_type": "markdown",
   "metadata": {},
   "source": [
    "**Observations:**\n",
    "- Average price of Air BNB at per Boroughs is shown in above bar chart.\n",
    "- Inspite of not having maximum number of Air BNBs in Manhattan, it has maximum average price.\n",
    "- And Staten Island is having very less number of Air BNBs and still the average price is competative with Bronx and Queens."
   ]
  },
  {
   "cell_type": "markdown",
   "metadata": {},
   "source": [
    "2. Boroughs vs Property Type"
   ]
  },
  {
   "cell_type": "code",
   "execution_count": 138,
   "metadata": {},
   "outputs": [
    {
     "data": {
      "text/html": [
       "<div>\n",
       "<style scoped>\n",
       "    .dataframe tbody tr th:only-of-type {\n",
       "        vertical-align: middle;\n",
       "    }\n",
       "\n",
       "    .dataframe tbody tr th {\n",
       "        vertical-align: top;\n",
       "    }\n",
       "\n",
       "    .dataframe thead th {\n",
       "        text-align: right;\n",
       "    }\n",
       "</style>\n",
       "<table border=\"1\" class=\"dataframe\">\n",
       "  <thead>\n",
       "    <tr style=\"text-align: right;\">\n",
       "      <th>Prop_Type</th>\n",
       "      <th>EntireHome</th>\n",
       "      <th>PrivateRoom</th>\n",
       "      <th>SharedRoom</th>\n",
       "    </tr>\n",
       "    <tr>\n",
       "      <th>Boroughs</th>\n",
       "      <th></th>\n",
       "      <th></th>\n",
       "      <th></th>\n",
       "    </tr>\n",
       "  </thead>\n",
       "  <tbody>\n",
       "    <tr>\n",
       "      <th>Bronx</th>\n",
       "      <td>308</td>\n",
       "      <td>532</td>\n",
       "      <td>51</td>\n",
       "    </tr>\n",
       "    <tr>\n",
       "      <th>Brooklyn</th>\n",
       "      <td>8163</td>\n",
       "      <td>7992</td>\n",
       "      <td>281</td>\n",
       "    </tr>\n",
       "    <tr>\n",
       "      <th>Manhattan</th>\n",
       "      <td>9776</td>\n",
       "      <td>6258</td>\n",
       "      <td>349</td>\n",
       "    </tr>\n",
       "    <tr>\n",
       "      <th>Queens</th>\n",
       "      <td>1770</td>\n",
       "      <td>2772</td>\n",
       "      <td>153</td>\n",
       "    </tr>\n",
       "    <tr>\n",
       "      <th>Staten Island</th>\n",
       "      <td>156</td>\n",
       "      <td>166</td>\n",
       "      <td>6</td>\n",
       "    </tr>\n",
       "  </tbody>\n",
       "</table>\n",
       "</div>"
      ],
      "text/plain": [
       "Prop_Type      EntireHome  PrivateRoom  SharedRoom\n",
       "Boroughs                                          \n",
       "Bronx                 308          532          51\n",
       "Brooklyn             8163         7992         281\n",
       "Manhattan            9776         6258         349\n",
       "Queens               1770         2772         153\n",
       "Staten Island         156          166           6"
      ]
     },
     "execution_count": 138,
     "metadata": {},
     "output_type": "execute_result"
    }
   ],
   "source": [
    "pd.crosstab(nyc.Boroughs,nyc.Prop_Type)"
   ]
  },
  {
   "cell_type": "code",
   "execution_count": 139,
   "metadata": {},
   "outputs": [
    {
     "data": {
      "image/png": "[encoded data removed]",
      "text/plain": [
       "<Figure size 1080x432 with 1 Axes>"
      ]
     },
     "metadata": {
      "needs_background": "light"
     },
     "output_type": "display_data"
    }
   ],
   "source": [
    "pd.crosstab(nyc.Boroughs,nyc.Prop_Type).plot(kind='bar',figsize=(15,6))\n",
    "plt.show()"
   ]
  },
  {
   "cell_type": "markdown",
   "metadata": {},
   "source": [
    "**Observations:**\n",
    "- Property type per borough is shown in this grouped bar chart.\n",
    "- Brooklyn and Manhattan borough has maximum number of Entire Homes and very few Shared Rooms. Private rooms are around average in Manhattan, but more in Brooklyn.\n",
    "- \n"
   ]
  },
  {
   "cell_type": "markdown",
   "metadata": {},
   "source": [
    "3. Minimum Nights vs Boroughs"
   ]
  },
  {
   "cell_type": "code",
   "execution_count": 140,
   "metadata": {},
   "outputs": [
    {
     "data": {
      "image/png": "[encoded data removed]",
      "text/plain": [
       "<Figure size 576x432 with 1 Axes>"
      ]
     },
     "metadata": {},
     "output_type": "display_data"
    }
   ],
   "source": [
    "nyc.groupby(nyc.Boroughs).mean()['Min_Nights'].plot(kind='pie',figsize=(8,6),startangle = 90,autopct='%.3f',shadow=True)\n",
    "plt.show()"
   ]
  },
  {
   "cell_type": "markdown",
   "metadata": {},
   "source": [
    "**Observations:**\n",
    "- Minimum nights at different boroughs is shown is this pie and visualization shows that, Manhattan being the top borough to have the highest average minimum night stay and lowest is staten island, as the island is small and these average days are more than enough to explore the Staten Islands"
   ]
  },
  {
   "cell_type": "markdown",
   "metadata": {},
   "source": [
    "4. Reviews Count vs Boroughs"
   ]
  },
  {
   "cell_type": "code",
   "execution_count": 141,
   "metadata": {},
   "outputs": [
    {
     "data": {
      "image/png": "[encoded data removed]",
      "text/plain": [
       "<Figure size 576x432 with 1 Axes>"
      ]
     },
     "metadata": {},
     "output_type": "display_data"
    }
   ],
   "source": [
    "nyc.groupby(nyc.Boroughs).mean()['Review_Cnt'].plot(kind='pie',figsize=(8,6),startangle = 90,autopct='%.3f',shadow=True)\n",
    "plt.show()"
   ]
  },
  {
   "cell_type": "markdown",
   "metadata": {},
   "source": [
    "**Observations:**\n",
    "- All the boroughs have nearly same review count just Manhattan has less average review count than all the other boroughs.\n",
    "- Staten Islands has maximum average reviews count and we know that, staten island has lowest count of Air BNBs."
   ]
  },
  {
   "cell_type": "markdown",
   "metadata": {},
   "source": [
    "**Property Type**"
   ]
  },
  {
   "cell_type": "markdown",
   "metadata": {},
   "source": [
    "1. Average Price vs Property Type"
   ]
  },
  {
   "cell_type": "code",
   "execution_count": 142,
   "metadata": {
    "scrolled": true
   },
   "outputs": [
    {
     "data": {
      "image/png": "[encoded data removed]",
      "text/plain": [
       "<Figure size 1080x432 with 1 Axes>"
      ]
     },
     "metadata": {
      "needs_background": "light"
     },
     "output_type": "display_data"
    }
   ],
   "source": [
    "plt.figure(figsize=(15,6))\n",
    "nyc.groupby('Prop_Type').mean()['Price'].plot(kind='bar')\n",
    "plt.title(\"Average Price per Property Type\", size=20)\n",
    "plt.xlabel(\"Property Type\", size=20)\n",
    "plt.ylabel('Price', size=20)\n",
    "plt.show()"
   ]
  },
  {
   "cell_type": "markdown",
   "metadata": {},
   "source": [
    "**Observations:**\n",
    "- There are three property types and the most of the boroughs have Entire Home type in large number. Private Rooms and Shared Rooms are too less than Entire Home but, they both have competitive count between themselves."
   ]
  },
  {
   "cell_type": "markdown",
   "metadata": {},
   "source": [
    "2. Average Percantage vs List Count per Property"
   ]
  },
  {
   "cell_type": "code",
   "execution_count": 145,
   "metadata": {},
   "outputs": [
    {
     "data": {
      "image/png": "[encoded data removed]",
      "text/plain": [
       "<Figure size 1080x432 with 1 Axes>"
      ]
     },
     "metadata": {
      "needs_background": "light"
     },
     "output_type": "display_data"
    }
   ],
   "source": [
    "plt.figure(figsize=(15,6))\n",
    "nyc.groupby('Boroughs').mean()['Host_Listing_Cnt'].plot(kind='bar')\n",
    "plt.title(\"Average Percentage of Listing Count per Property Type\", size=20)\n",
    "plt.xlabel(\"Property Type\", size=20)\n",
    "plt.ylabel('Percentage of Property Listing (%)', size=20)\n",
    "plt.show()"
   ]
  },
  {
   "cell_type": "markdown",
   "metadata": {},
   "source": [
    "**Observations:**\n",
    "- Property listing is the main aspect, as it shows the the performance and role of different boroughs in business of Air BNB.\n",
    "- Manhattan has won the race in listing maximum properties and followed by Queens. Rest of the boroughs are having competitive score in themseleves.\n",
    "- We can conlcude that, all the cities are platijg important role in increasing business in which Manhattan is the most important borough for Air BNB."
   ]
  },
  {
   "cell_type": "markdown",
   "metadata": {},
   "source": [
    "3. Property Type vs Minimum Nights"
   ]
  },
  {
   "cell_type": "code",
   "execution_count": 146,
   "metadata": {},
   "outputs": [
    {
     "data": {
      "image/png": "[encoded data removed]",
      "text/plain": [
       "<Figure size 576x432 with 1 Axes>"
      ]
     },
     "metadata": {},
     "output_type": "display_data"
    }
   ],
   "source": [
    "nyc.groupby(nyc.Prop_Type).mean()['Min_Nights'].plot(kind='pie',figsize=(8,6),startangle = 90,autopct='%.3f',shadow=True)\n",
    "plt.show()"
   ]
  },
  {
   "cell_type": "markdown",
   "metadata": {},
   "source": [
    "**Observations:**\n",
    "- Without any doubt, we can say that Entire Home is anyway going to show the maximum percentage as people will live there for longer time than other property types.\n",
    "- There is a noticable point that, Private and Shared both property types are also near to each other in average minimum night stay of people in those properties."
   ]
  },
  {
   "cell_type": "markdown",
   "metadata": {},
   "source": [
    "4. Property Type vs Price"
   ]
  },
  {
   "cell_type": "code",
   "execution_count": 148,
   "metadata": {},
   "outputs": [
    {
     "data": {
      "image/png": "[encoded data removed]",
      "text/plain": [
       "<Figure size 576x432 with 1 Axes>"
      ]
     },
     "metadata": {},
     "output_type": "display_data"
    }
   ],
   "source": [
    "nyc.groupby(nyc.Prop_Type).mean()['Price'].plot(kind='pie',figsize=(8,6),startangle = 90,autopct='%.3f',shadow=True)\n",
    "plt.show()"
   ]
  },
  {
   "cell_type": "markdown",
   "metadata": {},
   "source": [
    "**Observations:**\n",
    "- Practically thinking, Entire Home must have and extra, premium services and it will cost higher than other property types.\n",
    "- Private Rooms are also having much more average price than Shared room because, anyways in the Shared rooms the cost is being splited into total number of tenants."
   ]
  },
  {
   "cell_type": "markdown",
   "metadata": {},
   "source": [
    "## Data Preprocessing - Part 2"
   ]
  },
  {
   "cell_type": "markdown",
   "metadata": {},
   "source": [
    "**Our system cannot understand the object data type, so we will replace the categories by their representation number.**\n",
    "\n",
    "- There are three types to do that:\n",
    "    1. Replacing value by creating a dictionary and new columns\n",
    "    2. Label Encoding (Suitable for only 2 categories) (not possible with this dataset)\n",
    "    3. One-Hot Encoding (Suitable for two or more categories)"
   ]
  },
  {
   "cell_type": "code",
   "execution_count": 149,
   "metadata": {},
   "outputs": [
    {
     "data": {
      "text/html": [
       "<div>\n",
       "<style scoped>\n",
       "    .dataframe tbody tr th:only-of-type {\n",
       "        vertical-align: middle;\n",
       "    }\n",
       "\n",
       "    .dataframe tbody tr th {\n",
       "        vertical-align: top;\n",
       "    }\n",
       "\n",
       "    .dataframe thead th {\n",
       "        text-align: right;\n",
       "    }\n",
       "</style>\n",
       "<table border=\"1\" class=\"dataframe\">\n",
       "  <thead>\n",
       "    <tr style=\"text-align: right;\">\n",
       "      <th></th>\n",
       "      <th>Boroughs</th>\n",
       "      <th>Latitude</th>\n",
       "      <th>Longitude</th>\n",
       "      <th>Prop_Type</th>\n",
       "      <th>Min_Nights</th>\n",
       "      <th>Host_Listing_Cnt</th>\n",
       "      <th>Days_Available</th>\n",
       "      <th>Review_Cnt</th>\n",
       "      <th>Reviews30d</th>\n",
       "      <th>Price</th>\n",
       "      <th>isEntireHome</th>\n",
       "      <th>isPrivateRoom</th>\n",
       "    </tr>\n",
       "  </thead>\n",
       "  <tbody>\n",
       "    <tr>\n",
       "      <th>3</th>\n",
       "      <td>Bronx</td>\n",
       "      <td>40.80091</td>\n",
       "      <td>-73.91449</td>\n",
       "      <td>PrivateRoom</td>\n",
       "      <td>21.0</td>\n",
       "      <td>2.0</td>\n",
       "      <td>117</td>\n",
       "      <td>18</td>\n",
       "      <td>0.36</td>\n",
       "      <td>71.0</td>\n",
       "      <td>0</td>\n",
       "      <td>1</td>\n",
       "    </tr>\n",
       "    <tr>\n",
       "      <th>4</th>\n",
       "      <td>Bronx</td>\n",
       "      <td>40.80143</td>\n",
       "      <td>-73.91353</td>\n",
       "      <td>EntireHome</td>\n",
       "      <td>2.0</td>\n",
       "      <td>3.0</td>\n",
       "      <td>0</td>\n",
       "      <td>12</td>\n",
       "      <td>3.50</td>\n",
       "      <td>115.0</td>\n",
       "      <td>1</td>\n",
       "      <td>0</td>\n",
       "    </tr>\n",
       "  </tbody>\n",
       "</table>\n",
       "</div>"
      ],
      "text/plain": [
       "  Boroughs  Latitude  Longitude    Prop_Type  Min_Nights  Host_Listing_Cnt  \\\n",
       "3    Bronx  40.80091  -73.91449  PrivateRoom        21.0               2.0   \n",
       "4    Bronx  40.80143  -73.91353   EntireHome         2.0               3.0   \n",
       "\n",
       "   Days_Available  Review_Cnt  Reviews30d  Price  isEntireHome  isPrivateRoom  \n",
       "3             117          18        0.36   71.0             0              1  \n",
       "4               0          12        3.50  115.0             1              0  "
      ]
     },
     "execution_count": 149,
     "metadata": {},
     "output_type": "execute_result"
    }
   ],
   "source": [
    "# 1. Replacing value by creating a dictionary and new columns\n",
    "nyc['isEntireHome'] = bnb.Prop_Type.map({'EntireHome':1,'PrivateRoom':0,'SharedRoom':0})\n",
    "nyc['isPrivateRoom'] = bnb.Prop_Type.map({'EntireHome':0,'PrivateRoom':1,'SharedRoom':0})\n",
    "nyc.iloc[3:5]"
   ]
  },
  {
   "cell_type": "markdown",
   "metadata": {},
   "source": [
    "- The more fast and easy derived method in Pandas is **One-Hot Encoding**"
   ]
  },
  {
   "cell_type": "code",
   "execution_count": 150,
   "metadata": {},
   "outputs": [
    {
     "data": {
      "text/html": [
       "<div>\n",
       "<style scoped>\n",
       "    .dataframe tbody tr th:only-of-type {\n",
       "        vertical-align: middle;\n",
       "    }\n",
       "\n",
       "    .dataframe tbody tr th {\n",
       "        vertical-align: top;\n",
       "    }\n",
       "\n",
       "    .dataframe thead th {\n",
       "        text-align: right;\n",
       "    }\n",
       "</style>\n",
       "<table border=\"1\" class=\"dataframe\">\n",
       "  <thead>\n",
       "    <tr style=\"text-align: right;\">\n",
       "      <th></th>\n",
       "      <th>Brooklyn</th>\n",
       "      <th>Manhattan</th>\n",
       "      <th>Queens</th>\n",
       "      <th>Staten Island</th>\n",
       "    </tr>\n",
       "  </thead>\n",
       "  <tbody>\n",
       "    <tr>\n",
       "      <th>0</th>\n",
       "      <td>0</td>\n",
       "      <td>0</td>\n",
       "      <td>0</td>\n",
       "      <td>0</td>\n",
       "    </tr>\n",
       "    <tr>\n",
       "      <th>1</th>\n",
       "      <td>0</td>\n",
       "      <td>0</td>\n",
       "      <td>0</td>\n",
       "      <td>0</td>\n",
       "    </tr>\n",
       "    <tr>\n",
       "      <th>2</th>\n",
       "      <td>0</td>\n",
       "      <td>0</td>\n",
       "      <td>0</td>\n",
       "      <td>0</td>\n",
       "    </tr>\n",
       "    <tr>\n",
       "      <th>3</th>\n",
       "      <td>0</td>\n",
       "      <td>0</td>\n",
       "      <td>0</td>\n",
       "      <td>0</td>\n",
       "    </tr>\n",
       "    <tr>\n",
       "      <th>4</th>\n",
       "      <td>0</td>\n",
       "      <td>0</td>\n",
       "      <td>0</td>\n",
       "      <td>0</td>\n",
       "    </tr>\n",
       "    <tr>\n",
       "      <th>...</th>\n",
       "      <td>...</td>\n",
       "      <td>...</td>\n",
       "      <td>...</td>\n",
       "      <td>...</td>\n",
       "    </tr>\n",
       "    <tr>\n",
       "      <th>38728</th>\n",
       "      <td>0</td>\n",
       "      <td>0</td>\n",
       "      <td>0</td>\n",
       "      <td>1</td>\n",
       "    </tr>\n",
       "    <tr>\n",
       "      <th>38729</th>\n",
       "      <td>0</td>\n",
       "      <td>0</td>\n",
       "      <td>0</td>\n",
       "      <td>1</td>\n",
       "    </tr>\n",
       "    <tr>\n",
       "      <th>38730</th>\n",
       "      <td>0</td>\n",
       "      <td>0</td>\n",
       "      <td>0</td>\n",
       "      <td>1</td>\n",
       "    </tr>\n",
       "    <tr>\n",
       "      <th>38731</th>\n",
       "      <td>0</td>\n",
       "      <td>0</td>\n",
       "      <td>0</td>\n",
       "      <td>1</td>\n",
       "    </tr>\n",
       "    <tr>\n",
       "      <th>38732</th>\n",
       "      <td>0</td>\n",
       "      <td>0</td>\n",
       "      <td>0</td>\n",
       "      <td>1</td>\n",
       "    </tr>\n",
       "  </tbody>\n",
       "</table>\n",
       "<p>38733 rows × 4 columns</p>\n",
       "</div>"
      ],
      "text/plain": [
       "       Brooklyn  Manhattan  Queens  Staten Island\n",
       "0             0          0       0              0\n",
       "1             0          0       0              0\n",
       "2             0          0       0              0\n",
       "3             0          0       0              0\n",
       "4             0          0       0              0\n",
       "...         ...        ...     ...            ...\n",
       "38728         0          0       0              1\n",
       "38729         0          0       0              1\n",
       "38730         0          0       0              1\n",
       "38731         0          0       0              1\n",
       "38732         0          0       0              1\n",
       "\n",
       "[38733 rows x 4 columns]"
      ]
     },
     "execution_count": 150,
     "metadata": {},
     "output_type": "execute_result"
    }
   ],
   "source": [
    "# 2. One-Hot Encoding (Suitable for two or more categories)\n",
    "dummy_NG = pd.get_dummies(nyc.Boroughs,drop_first=True)\n",
    "dummy_NG"
   ]
  },
  {
   "cell_type": "markdown",
   "metadata": {},
   "source": [
    "- To join this above dataframe to main dataframe, we will use concatenation"
   ]
  },
  {
   "cell_type": "code",
   "execution_count": 151,
   "metadata": {
    "scrolled": true
   },
   "outputs": [
    {
     "data": {
      "text/html": [
       "<div>\n",
       "<style scoped>\n",
       "    .dataframe tbody tr th:only-of-type {\n",
       "        vertical-align: middle;\n",
       "    }\n",
       "\n",
       "    .dataframe tbody tr th {\n",
       "        vertical-align: top;\n",
       "    }\n",
       "\n",
       "    .dataframe thead th {\n",
       "        text-align: right;\n",
       "    }\n",
       "</style>\n",
       "<table border=\"1\" class=\"dataframe\">\n",
       "  <thead>\n",
       "    <tr style=\"text-align: right;\">\n",
       "      <th></th>\n",
       "      <th>Boroughs</th>\n",
       "      <th>Latitude</th>\n",
       "      <th>Longitude</th>\n",
       "      <th>Prop_Type</th>\n",
       "      <th>Min_Nights</th>\n",
       "      <th>Host_Listing_Cnt</th>\n",
       "      <th>Days_Available</th>\n",
       "      <th>Review_Cnt</th>\n",
       "      <th>Reviews30d</th>\n",
       "      <th>Price</th>\n",
       "      <th>isEntireHome</th>\n",
       "      <th>isPrivateRoom</th>\n",
       "      <th>Brooklyn</th>\n",
       "      <th>Manhattan</th>\n",
       "      <th>Queens</th>\n",
       "      <th>Staten Island</th>\n",
       "    </tr>\n",
       "  </thead>\n",
       "  <tbody>\n",
       "    <tr>\n",
       "      <th>0</th>\n",
       "      <td>Bronx</td>\n",
       "      <td>40.80011</td>\n",
       "      <td>-73.91330</td>\n",
       "      <td>PrivateRoom</td>\n",
       "      <td>21.0</td>\n",
       "      <td>2.0</td>\n",
       "      <td>291</td>\n",
       "      <td>19</td>\n",
       "      <td>0.27</td>\n",
       "      <td>60.0</td>\n",
       "      <td>0</td>\n",
       "      <td>1</td>\n",
       "      <td>0</td>\n",
       "      <td>0</td>\n",
       "      <td>0</td>\n",
       "      <td>0</td>\n",
       "    </tr>\n",
       "    <tr>\n",
       "      <th>1</th>\n",
       "      <td>Bronx</td>\n",
       "      <td>40.80024</td>\n",
       "      <td>-73.91422</td>\n",
       "      <td>PrivateRoom</td>\n",
       "      <td>3.0</td>\n",
       "      <td>1.0</td>\n",
       "      <td>0</td>\n",
       "      <td>59</td>\n",
       "      <td>2.93</td>\n",
       "      <td>49.0</td>\n",
       "      <td>0</td>\n",
       "      <td>1</td>\n",
       "      <td>0</td>\n",
       "      <td>0</td>\n",
       "      <td>0</td>\n",
       "      <td>0</td>\n",
       "    </tr>\n",
       "    <tr>\n",
       "      <th>2</th>\n",
       "      <td>Bronx</td>\n",
       "      <td>40.80074</td>\n",
       "      <td>-73.91574</td>\n",
       "      <td>PrivateRoom</td>\n",
       "      <td>3.0</td>\n",
       "      <td>1.0</td>\n",
       "      <td>354</td>\n",
       "      <td>3</td>\n",
       "      <td>0.87</td>\n",
       "      <td>50.0</td>\n",
       "      <td>0</td>\n",
       "      <td>1</td>\n",
       "      <td>0</td>\n",
       "      <td>0</td>\n",
       "      <td>0</td>\n",
       "      <td>0</td>\n",
       "    </tr>\n",
       "    <tr>\n",
       "      <th>3</th>\n",
       "      <td>Bronx</td>\n",
       "      <td>40.80091</td>\n",
       "      <td>-73.91449</td>\n",
       "      <td>PrivateRoom</td>\n",
       "      <td>21.0</td>\n",
       "      <td>2.0</td>\n",
       "      <td>117</td>\n",
       "      <td>18</td>\n",
       "      <td>0.36</td>\n",
       "      <td>71.0</td>\n",
       "      <td>0</td>\n",
       "      <td>1</td>\n",
       "      <td>0</td>\n",
       "      <td>0</td>\n",
       "      <td>0</td>\n",
       "      <td>0</td>\n",
       "    </tr>\n",
       "    <tr>\n",
       "      <th>4</th>\n",
       "      <td>Bronx</td>\n",
       "      <td>40.80143</td>\n",
       "      <td>-73.91353</td>\n",
       "      <td>EntireHome</td>\n",
       "      <td>2.0</td>\n",
       "      <td>3.0</td>\n",
       "      <td>0</td>\n",
       "      <td>12</td>\n",
       "      <td>3.50</td>\n",
       "      <td>115.0</td>\n",
       "      <td>1</td>\n",
       "      <td>0</td>\n",
       "      <td>0</td>\n",
       "      <td>0</td>\n",
       "      <td>0</td>\n",
       "      <td>0</td>\n",
       "    </tr>\n",
       "  </tbody>\n",
       "</table>\n",
       "</div>"
      ],
      "text/plain": [
       "  Boroughs  Latitude  Longitude    Prop_Type  Min_Nights  Host_Listing_Cnt  \\\n",
       "0    Bronx  40.80011  -73.91330  PrivateRoom        21.0               2.0   \n",
       "1    Bronx  40.80024  -73.91422  PrivateRoom         3.0               1.0   \n",
       "2    Bronx  40.80074  -73.91574  PrivateRoom         3.0               1.0   \n",
       "3    Bronx  40.80091  -73.91449  PrivateRoom        21.0               2.0   \n",
       "4    Bronx  40.80143  -73.91353   EntireHome         2.0               3.0   \n",
       "\n",
       "   Days_Available  Review_Cnt  Reviews30d  Price  isEntireHome  isPrivateRoom  \\\n",
       "0             291          19        0.27   60.0             0              1   \n",
       "1               0          59        2.93   49.0             0              1   \n",
       "2             354           3        0.87   50.0             0              1   \n",
       "3             117          18        0.36   71.0             0              1   \n",
       "4               0          12        3.50  115.0             1              0   \n",
       "\n",
       "   Brooklyn  Manhattan  Queens  Staten Island  \n",
       "0         0          0       0              0  \n",
       "1         0          0       0              0  \n",
       "2         0          0       0              0  \n",
       "3         0          0       0              0  \n",
       "4         0          0       0              0  "
      ]
     },
     "execution_count": 151,
     "metadata": {},
     "output_type": "execute_result"
    }
   ],
   "source": [
    "nyc = pd.concat([nyc,dummy_NG],axis='columns') # or axis=1\n",
    "nyc.head()"
   ]
  },
  {
   "cell_type": "code",
   "execution_count": null,
   "metadata": {},
   "outputs": [],
   "source": []
  },
  {
   "cell_type": "markdown",
   "metadata": {},
   "source": [
    "- We need to drop  the initial columns Neighbourhood_Group and Prop_Type"
   ]
  },
  {
   "cell_type": "code",
   "execution_count": 152,
   "metadata": {},
   "outputs": [
    {
     "data": {
      "text/html": [
       "<div>\n",
       "<style scoped>\n",
       "    .dataframe tbody tr th:only-of-type {\n",
       "        vertical-align: middle;\n",
       "    }\n",
       "\n",
       "    .dataframe tbody tr th {\n",
       "        vertical-align: top;\n",
       "    }\n",
       "\n",
       "    .dataframe thead th {\n",
       "        text-align: right;\n",
       "    }\n",
       "</style>\n",
       "<table border=\"1\" class=\"dataframe\">\n",
       "  <thead>\n",
       "    <tr style=\"text-align: right;\">\n",
       "      <th></th>\n",
       "      <th>Latitude</th>\n",
       "      <th>Longitude</th>\n",
       "      <th>Min_Nights</th>\n",
       "      <th>Host_Listing_Cnt</th>\n",
       "      <th>Days_Available</th>\n",
       "      <th>Review_Cnt</th>\n",
       "      <th>Reviews30d</th>\n",
       "      <th>Price</th>\n",
       "      <th>isEntireHome</th>\n",
       "      <th>isPrivateRoom</th>\n",
       "      <th>Brooklyn</th>\n",
       "      <th>Manhattan</th>\n",
       "      <th>Queens</th>\n",
       "      <th>Staten Island</th>\n",
       "    </tr>\n",
       "  </thead>\n",
       "  <tbody>\n",
       "    <tr>\n",
       "      <th>0</th>\n",
       "      <td>40.80011</td>\n",
       "      <td>-73.91330</td>\n",
       "      <td>21.0</td>\n",
       "      <td>2.0</td>\n",
       "      <td>291</td>\n",
       "      <td>19</td>\n",
       "      <td>0.27</td>\n",
       "      <td>60.0</td>\n",
       "      <td>0</td>\n",
       "      <td>1</td>\n",
       "      <td>0</td>\n",
       "      <td>0</td>\n",
       "      <td>0</td>\n",
       "      <td>0</td>\n",
       "    </tr>\n",
       "    <tr>\n",
       "      <th>1</th>\n",
       "      <td>40.80024</td>\n",
       "      <td>-73.91422</td>\n",
       "      <td>3.0</td>\n",
       "      <td>1.0</td>\n",
       "      <td>0</td>\n",
       "      <td>59</td>\n",
       "      <td>2.93</td>\n",
       "      <td>49.0</td>\n",
       "      <td>0</td>\n",
       "      <td>1</td>\n",
       "      <td>0</td>\n",
       "      <td>0</td>\n",
       "      <td>0</td>\n",
       "      <td>0</td>\n",
       "    </tr>\n",
       "    <tr>\n",
       "      <th>2</th>\n",
       "      <td>40.80074</td>\n",
       "      <td>-73.91574</td>\n",
       "      <td>3.0</td>\n",
       "      <td>1.0</td>\n",
       "      <td>354</td>\n",
       "      <td>3</td>\n",
       "      <td>0.87</td>\n",
       "      <td>50.0</td>\n",
       "      <td>0</td>\n",
       "      <td>1</td>\n",
       "      <td>0</td>\n",
       "      <td>0</td>\n",
       "      <td>0</td>\n",
       "      <td>0</td>\n",
       "    </tr>\n",
       "    <tr>\n",
       "      <th>3</th>\n",
       "      <td>40.80091</td>\n",
       "      <td>-73.91449</td>\n",
       "      <td>21.0</td>\n",
       "      <td>2.0</td>\n",
       "      <td>117</td>\n",
       "      <td>18</td>\n",
       "      <td>0.36</td>\n",
       "      <td>71.0</td>\n",
       "      <td>0</td>\n",
       "      <td>1</td>\n",
       "      <td>0</td>\n",
       "      <td>0</td>\n",
       "      <td>0</td>\n",
       "      <td>0</td>\n",
       "    </tr>\n",
       "    <tr>\n",
       "      <th>4</th>\n",
       "      <td>40.80143</td>\n",
       "      <td>-73.91353</td>\n",
       "      <td>2.0</td>\n",
       "      <td>3.0</td>\n",
       "      <td>0</td>\n",
       "      <td>12</td>\n",
       "      <td>3.50</td>\n",
       "      <td>115.0</td>\n",
       "      <td>1</td>\n",
       "      <td>0</td>\n",
       "      <td>0</td>\n",
       "      <td>0</td>\n",
       "      <td>0</td>\n",
       "      <td>0</td>\n",
       "    </tr>\n",
       "    <tr>\n",
       "      <th>...</th>\n",
       "      <td>...</td>\n",
       "      <td>...</td>\n",
       "      <td>...</td>\n",
       "      <td>...</td>\n",
       "      <td>...</td>\n",
       "      <td>...</td>\n",
       "      <td>...</td>\n",
       "      <td>...</td>\n",
       "      <td>...</td>\n",
       "      <td>...</td>\n",
       "      <td>...</td>\n",
       "      <td>...</td>\n",
       "      <td>...</td>\n",
       "      <td>...</td>\n",
       "    </tr>\n",
       "    <tr>\n",
       "      <th>38728</th>\n",
       "      <td>40.64641</td>\n",
       "      <td>-74.08502</td>\n",
       "      <td>2.0</td>\n",
       "      <td>1.0</td>\n",
       "      <td>106</td>\n",
       "      <td>58</td>\n",
       "      <td>4.73</td>\n",
       "      <td>130.0</td>\n",
       "      <td>1</td>\n",
       "      <td>0</td>\n",
       "      <td>0</td>\n",
       "      <td>0</td>\n",
       "      <td>0</td>\n",
       "      <td>1</td>\n",
       "    </tr>\n",
       "    <tr>\n",
       "      <th>38729</th>\n",
       "      <td>40.64682</td>\n",
       "      <td>-74.08734</td>\n",
       "      <td>20.0</td>\n",
       "      <td>1.0</td>\n",
       "      <td>89</td>\n",
       "      <td>58</td>\n",
       "      <td>1.05</td>\n",
       "      <td>43.0</td>\n",
       "      <td>0</td>\n",
       "      <td>1</td>\n",
       "      <td>0</td>\n",
       "      <td>0</td>\n",
       "      <td>0</td>\n",
       "      <td>1</td>\n",
       "    </tr>\n",
       "    <tr>\n",
       "      <th>38730</th>\n",
       "      <td>40.64730</td>\n",
       "      <td>-74.08408</td>\n",
       "      <td>30.0</td>\n",
       "      <td>4.0</td>\n",
       "      <td>0</td>\n",
       "      <td>85</td>\n",
       "      <td>1.35</td>\n",
       "      <td>105.0</td>\n",
       "      <td>0</td>\n",
       "      <td>1</td>\n",
       "      <td>0</td>\n",
       "      <td>0</td>\n",
       "      <td>0</td>\n",
       "      <td>1</td>\n",
       "    </tr>\n",
       "    <tr>\n",
       "      <th>38731</th>\n",
       "      <td>40.64762</td>\n",
       "      <td>-74.08682</td>\n",
       "      <td>3.0</td>\n",
       "      <td>1.0</td>\n",
       "      <td>232</td>\n",
       "      <td>5</td>\n",
       "      <td>1.88</td>\n",
       "      <td>135.0</td>\n",
       "      <td>1</td>\n",
       "      <td>0</td>\n",
       "      <td>0</td>\n",
       "      <td>0</td>\n",
       "      <td>0</td>\n",
       "      <td>1</td>\n",
       "    </tr>\n",
       "    <tr>\n",
       "      <th>38732</th>\n",
       "      <td>40.64779</td>\n",
       "      <td>-74.08460</td>\n",
       "      <td>1.0</td>\n",
       "      <td>1.0</td>\n",
       "      <td>250</td>\n",
       "      <td>108</td>\n",
       "      <td>2.32</td>\n",
       "      <td>140.0</td>\n",
       "      <td>1</td>\n",
       "      <td>0</td>\n",
       "      <td>0</td>\n",
       "      <td>0</td>\n",
       "      <td>0</td>\n",
       "      <td>1</td>\n",
       "    </tr>\n",
       "  </tbody>\n",
       "</table>\n",
       "<p>38733 rows × 14 columns</p>\n",
       "</div>"
      ],
      "text/plain": [
       "       Latitude  Longitude  Min_Nights  Host_Listing_Cnt  Days_Available  \\\n",
       "0      40.80011  -73.91330        21.0               2.0             291   \n",
       "1      40.80024  -73.91422         3.0               1.0               0   \n",
       "2      40.80074  -73.91574         3.0               1.0             354   \n",
       "3      40.80091  -73.91449        21.0               2.0             117   \n",
       "4      40.80143  -73.91353         2.0               3.0               0   \n",
       "...         ...        ...         ...               ...             ...   \n",
       "38728  40.64641  -74.08502         2.0               1.0             106   \n",
       "38729  40.64682  -74.08734        20.0               1.0              89   \n",
       "38730  40.64730  -74.08408        30.0               4.0               0   \n",
       "38731  40.64762  -74.08682         3.0               1.0             232   \n",
       "38732  40.64779  -74.08460         1.0               1.0             250   \n",
       "\n",
       "       Review_Cnt  Reviews30d  Price  isEntireHome  isPrivateRoom  Brooklyn  \\\n",
       "0              19        0.27   60.0             0              1         0   \n",
       "1              59        2.93   49.0             0              1         0   \n",
       "2               3        0.87   50.0             0              1         0   \n",
       "3              18        0.36   71.0             0              1         0   \n",
       "4              12        3.50  115.0             1              0         0   \n",
       "...           ...         ...    ...           ...            ...       ...   \n",
       "38728          58        4.73  130.0             1              0         0   \n",
       "38729          58        1.05   43.0             0              1         0   \n",
       "38730          85        1.35  105.0             0              1         0   \n",
       "38731           5        1.88  135.0             1              0         0   \n",
       "38732         108        2.32  140.0             1              0         0   \n",
       "\n",
       "       Manhattan  Queens  Staten Island  \n",
       "0              0       0              0  \n",
       "1              0       0              0  \n",
       "2              0       0              0  \n",
       "3              0       0              0  \n",
       "4              0       0              0  \n",
       "...          ...     ...            ...  \n",
       "38728          0       0              1  \n",
       "38729          0       0              1  \n",
       "38730          0       0              1  \n",
       "38731          0       0              1  \n",
       "38732          0       0              1  \n",
       "\n",
       "[38733 rows x 14 columns]"
      ]
     },
     "execution_count": 152,
     "metadata": {},
     "output_type": "execute_result"
    }
   ],
   "source": [
    "nyc.drop(['Boroughs','Prop_Type'],axis=1,inplace=True)\n",
    "nyc"
   ]
  },
  {
   "cell_type": "markdown",
   "metadata": {},
   "source": [
    "## Machine Learning Modeling"
   ]
  },
  {
   "cell_type": "code",
   "execution_count": 214,
   "metadata": {},
   "outputs": [],
   "source": [
    "nyc = nyc.sample(frac=1, random_state=44)\n",
    "y = nyc['Price']\n",
    "X = nyc.drop('Price', axis=1)"
   ]
  },
  {
   "cell_type": "code",
   "execution_count": 215,
   "metadata": {},
   "outputs": [
    {
     "data": {
      "text/plain": [
       "LinearRegression()"
      ]
     },
     "execution_count": 215,
     "metadata": {},
     "output_type": "execute_result"
    }
   ],
   "source": [
    "X_train, X_test, y_train, y_test = train_test_split(X,y,test_size=0.3, random_state=44)\n",
    "\n",
    "lr = LinearRegression()\n",
    "lr.fit(X_train,y_train)"
   ]
  },
  {
   "cell_type": "code",
   "execution_count": 216,
   "metadata": {},
   "outputs": [],
   "source": [
    "y_train_pred = lr.predict(X_train)\n",
    "y_test_pred = lr.predict(X_test)"
   ]
  },
  {
   "cell_type": "code",
   "execution_count": 217,
   "metadata": {},
   "outputs": [
    {
     "name": "stdout",
     "output_type": "stream",
     "text": [
      "r-squared-train:  0.1125003476692672\n",
      "r-squared-test :  0.12280303300574069\n",
      "==================================================\n",
      "rmse-train:  185.9800322101494\n",
      "rmse-test :  175.51718480025667\n"
     ]
    }
   ],
   "source": [
    "r2_train = r2_score(y_train, y_train_pred)\n",
    "r2_test = r2_score(y_test, y_test_pred)\n",
    "\n",
    "print('r-squared-train: ', r2_train)\n",
    "print('r-squared-test : ', r2_test)\n",
    "\n",
    "\n",
    "rmse_train = np.sqrt(mean_squared_error(y_train, y_train_pred))\n",
    "rmse_test = np.sqrt(mean_squared_error(y_test, y_test_pred))\n",
    "print(\"=\"*50)\n",
    "print('rmse-train: ', rmse_train)\n",
    "print('rmse-test : ', rmse_test)"
   ]
  },
  {
   "cell_type": "code",
   "execution_count": 218,
   "metadata": {},
   "outputs": [
    {
     "data": {
      "text/plain": [
       "-27147.7608692159"
      ]
     },
     "execution_count": 218,
     "metadata": {},
     "output_type": "execute_result"
    }
   ],
   "source": [
    "lr.intercept_"
   ]
  },
  {
   "cell_type": "code",
   "execution_count": 219,
   "metadata": {},
   "outputs": [
    {
     "data": {
      "text/html": [
       "<div>\n",
       "<style scoped>\n",
       "    .dataframe tbody tr th:only-of-type {\n",
       "        vertical-align: middle;\n",
       "    }\n",
       "\n",
       "    .dataframe tbody tr th {\n",
       "        vertical-align: top;\n",
       "    }\n",
       "\n",
       "    .dataframe thead th {\n",
       "        text-align: right;\n",
       "    }\n",
       "</style>\n",
       "<table border=\"1\" class=\"dataframe\">\n",
       "  <thead>\n",
       "    <tr style=\"text-align: right;\">\n",
       "      <th></th>\n",
       "      <th>coefs</th>\n",
       "    </tr>\n",
       "  </thead>\n",
       "  <tbody>\n",
       "    <tr>\n",
       "      <th>Latitude</th>\n",
       "      <td>-117.884985</td>\n",
       "    </tr>\n",
       "    <tr>\n",
       "      <th>Longitude</th>\n",
       "      <td>-432.581153</td>\n",
       "    </tr>\n",
       "    <tr>\n",
       "      <th>Min_Nights</th>\n",
       "      <td>-0.566910</td>\n",
       "    </tr>\n",
       "    <tr>\n",
       "      <th>Host_Listing_Cnt</th>\n",
       "      <td>-0.726347</td>\n",
       "    </tr>\n",
       "    <tr>\n",
       "      <th>Days_Available</th>\n",
       "      <td>0.176482</td>\n",
       "    </tr>\n",
       "    <tr>\n",
       "      <th>Review_Cnt</th>\n",
       "      <td>-0.194306</td>\n",
       "    </tr>\n",
       "    <tr>\n",
       "      <th>Reviews30d</th>\n",
       "      <td>-0.251333</td>\n",
       "    </tr>\n",
       "    <tr>\n",
       "      <th>isEntireHome</th>\n",
       "      <td>132.966516</td>\n",
       "    </tr>\n",
       "    <tr>\n",
       "      <th>isPrivateRoom</th>\n",
       "      <td>32.354619</td>\n",
       "    </tr>\n",
       "    <tr>\n",
       "      <th>Brooklyn</th>\n",
       "      <td>-13.289329</td>\n",
       "    </tr>\n",
       "    <tr>\n",
       "      <th>Manhattan</th>\n",
       "      <td>32.902163</td>\n",
       "    </tr>\n",
       "    <tr>\n",
       "      <th>Queens</th>\n",
       "      <td>7.060237</td>\n",
       "    </tr>\n",
       "    <tr>\n",
       "      <th>Staten Island</th>\n",
       "      <td>-136.784372</td>\n",
       "    </tr>\n",
       "  </tbody>\n",
       "</table>\n",
       "</div>"
      ],
      "text/plain": [
       "                       coefs\n",
       "Latitude         -117.884985\n",
       "Longitude        -432.581153\n",
       "Min_Nights         -0.566910\n",
       "Host_Listing_Cnt   -0.726347\n",
       "Days_Available      0.176482\n",
       "Review_Cnt         -0.194306\n",
       "Reviews30d         -0.251333\n",
       "isEntireHome      132.966516\n",
       "isPrivateRoom      32.354619\n",
       "Brooklyn          -13.289329\n",
       "Manhattan          32.902163\n",
       "Queens              7.060237\n",
       "Staten Island    -136.784372"
      ]
     },
     "execution_count": 219,
     "metadata": {},
     "output_type": "execute_result"
    }
   ],
   "source": [
    "pd.DataFrame(lr.coef_, index = X.columns, columns=['coefs'])"
   ]
  },
  {
   "cell_type": "markdown",
   "metadata": {},
   "source": [
    "We can not say that there is overfitting, as the model is not that complex."
   ]
  },
  {
   "cell_type": "markdown",
   "metadata": {},
   "source": [
    "**Prediction using model:**"
   ]
  },
  {
   "cell_type": "code",
   "execution_count": 220,
   "metadata": {},
   "outputs": [
    {
     "data": {
      "text/plain": [
       "array([136.29213573])"
      ]
     },
     "execution_count": 220,
     "metadata": {},
     "output_type": "execute_result"
    }
   ],
   "source": [
    "lr.predict([[40.80024,-73.91422,23.0,1.0,0,29,2.93,1,0,0,0,1,0]])"
   ]
  },
  {
   "cell_type": "markdown",
   "metadata": {},
   "source": [
    "## Happy Learning! "
   ]
  }
 ],
 "metadata": {
  "kernelspec": {
   "display_name": "Python 3",
   "language": "python",
   "name": "python3"
  },
  "language_info": {
   "codemirror_mode": {
    "name": "ipython",
    "version": 3
   },
   "file_extension": ".py",
   "mimetype": "text/x-python",
   "name": "python",
   "nbconvert_exporter": "python",
   "pygments_lexer": "ipython3",
   "version": "3.8.3"
  }
 },
 "nbformat": 4,
 "nbformat_minor": 4
}
